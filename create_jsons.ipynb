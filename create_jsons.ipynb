{
 "cells": [
  {
   "cell_type": "markdown",
   "id": "abf7e5a1",
   "metadata": {},
   "source": [
    "### 1. Default setting"
   ]
  },
  {
   "cell_type": "code",
   "execution_count": 1,
   "id": "a8f19bd3",
   "metadata": {},
   "outputs": [],
   "source": [
    "import os\n",
    "import json"
   ]
  },
  {
   "cell_type": "markdown",
   "id": "dc47d1bb",
   "metadata": {},
   "source": [
    "### 2. Client json"
   ]
  },
  {
   "cell_type": "code",
   "execution_count": 3,
   "id": "099f879a",
   "metadata": {},
   "outputs": [],
   "source": [
    "client = {'app_01':['Client ID', 'Client Secret'], 'app_02': ['Client ID2', 'Client Secret2']}"
   ]
  },
  {
   "cell_type": "code",
   "execution_count": 4,
   "id": "20e81272",
   "metadata": {},
   "outputs": [],
   "source": [
    "with open(os.path.join(config['client_path'], 'client.json'), 'w') as f:\n",
    "    json.dump(client, f)"
   ]
  },
  {
   "cell_type": "raw",
   "id": "40e4e6a1",
   "metadata": {},
   "source": [
    "with open(os.path.join(config['client_path'], 'client.json'), 'r') as f:\n",
    "    client = json.load(f)\n",
    "\n",
    "client"
   ]
  },
  {
   "cell_type": "markdown",
   "id": "f9b5a545",
   "metadata": {},
   "source": [
    "### 3. Config json"
   ]
  },
  {
   "cell_type": "markdown",
   "id": "9c53ad32",
   "metadata": {},
   "source": [
    "#### 3.1 translate config"
   ]
  },
  {
   "cell_type": "code",
   "execution_count": 12,
   "id": "7db3ec83",
   "metadata": {},
   "outputs": [],
   "source": [
    "config = dict()\n",
    "\n",
    "config['task'] = 'translate'\n",
    "config['data_path'] = 'data'\n",
    "config['client_path'] = 'client'\n",
    "config['client_file'] = 'client.json'\n",
    "config['config_path'] = 'config'\n",
    "config['log_path'] = 'log'\n",
    "config['source'] = 'ko'\n",
    "config['target'] = 'en'\n",
    "config['file_name'] = 'translate_sample.csv'\n",
    "config['save_file'] = 'translate_result.csv'  \n",
    "config['col'] = 'text' \n",
    "config['flag'] = 0   "
   ]
  },
  {
   "cell_type": "code",
   "execution_count": 13,
   "id": "9457466b",
   "metadata": {},
   "outputs": [],
   "source": [
    "with open(os.path.join(config['config_path'], config['task'], 'translate_config.json'), 'w') as f:\n",
    "    json.dump(config, f)"
   ]
  },
  {
   "cell_type": "markdown",
   "id": "55b542ba",
   "metadata": {},
   "source": [
    "#### 3.2 Language Detect config"
   ]
  },
  {
   "cell_type": "code",
   "execution_count": 8,
   "id": "7b4fa1b7",
   "metadata": {},
   "outputs": [],
   "source": [
    "config = dict()\n",
    "\n",
    "config['task'] = 'LD'\n",
    "config['data_path'] = 'data'\n",
    "config['client_path'] = 'client'\n",
    "config['client_file'] = 'client.json'\n",
    "config['config_path'] = 'config'\n",
    "config['log_path'] = 'log'\n",
    "config['file_name'] = 'LD_sample.csv'\n",
    "config['save_file'] = 'LD_lang.csv'   \n",
    "config['save_file2'] = 'LD_nlang.csv'  \n",
    "config['col'] = 'text' \n",
    "config['lang'] = 'en'\n",
    "config['flag'] = 0"
   ]
  },
  {
   "cell_type": "code",
   "execution_count": 9,
   "id": "8f222bcd",
   "metadata": {},
   "outputs": [],
   "source": [
    "with open(os.path.join(config['config_path'], config['task'], 'LD_config.json'), 'w') as f:\n",
    "    json.dump(config, f)"
   ]
  },
  {
   "cell_type": "code",
   "execution_count": null,
   "id": "29edc996",
   "metadata": {},
   "outputs": [],
   "source": []
  }
 ],
 "metadata": {
  "kernelspec": {
   "display_name": "Python 3",
   "language": "python",
   "name": "python3"
  },
  "language_info": {
   "codemirror_mode": {
    "name": "ipython",
    "version": 3
   },
   "file_extension": ".py",
   "mimetype": "text/x-python",
   "name": "python",
   "nbconvert_exporter": "python",
   "pygments_lexer": "ipython3",
   "version": "3.8.8"
  }
 },
 "nbformat": 4,
 "nbformat_minor": 5
}
