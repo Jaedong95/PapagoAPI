{
 "cells": [
  {
   "cell_type": "code",
   "execution_count": 1,
   "id": "ca226756",
   "metadata": {},
   "outputs": [],
   "source": [
    "import os\n",
    "import pandas as pd\n",
    "import json\n",
    "import pickle\n",
    "import urllib.request\n",
    "from attrdict import AttrDict\n",
    "from urllib.error import HTTPError\n",
    "from src import Papago"
   ]
  },
  {
   "cell_type": "code",
   "execution_count": 2,
   "id": "6e75c741",
   "metadata": {},
   "outputs": [],
   "source": [
    "task = 'LD'\n",
    "config_path = 'config'\n",
    "config_file = 'LD_config.json'"
   ]
  },
  {
   "cell_type": "code",
   "execution_count": 3,
   "id": "ce5ee0af",
   "metadata": {},
   "outputs": [],
   "source": [
    "with open(os.path.join(config_path, task, config_file)) as f:\n",
    "    args = AttrDict(json.load(f))"
   ]
  },
  {
   "cell_type": "code",
   "execution_count": 4,
   "id": "91fc4a70",
   "metadata": {},
   "outputs": [],
   "source": [
    "class PapagoLD(Papago):\n",
    "    def __init__(self, args):\n",
    "        super().__init__(args)\n",
    "    \n",
    "    def language_detect(self, cli, text):\n",
    "        '''\n",
    "        지정한 Cli를 이용하여 text (1 sentence)에 대해 언어 감지 진행\n",
    "        '''\n",
    "        encQuery = urllib.parse.quote(text)\n",
    "        url = \"https://openapi.naver.com/v1/papago/detectLangs\"\n",
    "        data = \"query=\" + encQuery\n",
    "        request = urllib.request.Request(url)\n",
    "        request.add_header(\"X-Naver-Client-Id\", cli[0])\n",
    "        request.add_header(\"X-Naver-Client-Secret\", cli[1])\n",
    "        response = urllib.request.urlopen(request, data=data.encode(\"utf-8\"))\n",
    "        response_body = response.read()\n",
    "        res = json.loads(response_body.decode('utf-8'))\n",
    "        \n",
    "        return res['langCode']\n",
    "    \n",
    "    def client_ld(self, s_idx, cli, papago_df):\n",
    "        self.lang_idx = []\n",
    "        self.nlang_idx = []\n",
    "        self.error_idx = []\n",
    "        self.s_idx = 0 \n",
    "                \n",
    "        for idx in range(s_idx, len(papago_df)):\n",
    "            try:\n",
    "                language = self.language_detect(cli, papago_df[self.args.col][idx])\n",
    "                if language == self.args.lang:\n",
    "                    self.lang_idx.append(idx) \n",
    "                elif language != self.args.lang:\n",
    "                    self.nlang_idx.append(idx) \n",
    "            except Exception as e:\n",
    "                print(f'오류 발생 ! {idx}: {papago_df[self.args.col][idx]}')\n",
    "                if e.code == 429:\n",
    "                    print('오류 내용: 일일 언어 감지 한도 초과', end='\\n\\n')\n",
    "                    self.s_idx = idx\n",
    "                    break\n",
    "                \n",
    "                if e.code == 500:\n",
    "                    print('오류 내용: HTTP 통신 오류', end='\\n\\n')\n",
    "                    self.error_idx.append(idx)\n",
    "                    continue \n",
    "            \n",
    "        print(f'언어 감지 종료 !')\n",
    "    \n",
    "    def load_log(self):\n",
    "        print(f'이전 작업 기록들을 로드합니다.')\n",
    "        with open(os.path.join(self.args.log_path, self.args.task, 'lang_idx.pickle'), 'rb') as f:\n",
    "            lang_idx = pickle.load(f)\n",
    "\n",
    "        with open(os.path.join(self.args.log_path, self.args.task, 'nlang_idx.pickle'), 'rb') as f:\n",
    "            nlang_idx = pickle.load(f)\n",
    "            \n",
    "        with open(os.path.join(self.args.log_path, self.args.task, 'error_idx.pickle'), 'rb') as f:\n",
    "            error_idx = pickle.load(f)\n",
    "            \n",
    "        with open(os.path.join(self.args.log_path, self.args.task, 's_idx.pickle'), 'rb') as f:\n",
    "            s_idx = pickle.load(f)\n",
    "            \n",
    "        return lang_idx, nlang_idx, error_idx, s_idx\n",
    "\n",
    "    def save_log(self, lang_idx, nlang_idx, error_idx, e_idx):\n",
    "        try: \n",
    "            with open(os.path.join(self.args.log_path, self.args.task, 'lang_idx.pickle'), 'rb') as f:\n",
    "                prev_lang_idx = pickle.load(f)\n",
    "            prev_lang_idx.extend(lang_idx)\n",
    "            with open(os.path.join(self.args.log_path, self.args.task, 'lang_idx.pickle'), 'wb') as f:\n",
    "                pickle.dump(prev_lang_idx, f, pickle.HIGHEST_PROTOCOL)         \n",
    "        except:\n",
    "            with open(os.path.join(self.args.log_path, self.args.task, 'lang_idx.pickle'), 'wb') as f:\n",
    "                pickle.dump(lang_idx, f, pickle.HIGHEST_PROTOCOL)\n",
    "        \n",
    "        try: \n",
    "            with open(os.path.join(self.args.log_path, self.args.task, 'nlang_idx.pickle'), 'rb') as f:\n",
    "                prev_nlang_idx = pickle.load(f)\n",
    "            prev_nlang_idx.extend(nlang_idx)\n",
    "            with open(os.path.join(self.args.log_path, self.args.task, 'nlang_idx.pickle'), 'wb') as f:\n",
    "                pickle.dump(prev_nlang_idx, f, pickle.HIGHEST_PROTOCOL)         \n",
    "        except:\n",
    "            with open(os.path.join(self.args.log_path, self.args.task, 'nlang_idx.pickle'), 'wb') as f:\n",
    "                pickle.dump(nlang_idx, f, pickle.HIGHEST_PROTOCOL)\n",
    "        \n",
    "        try:\n",
    "            with open(os.path.join(self.args.log_path, self.args.task, 'error_idx.pickle'), 'rb') as f:\n",
    "                prev_error_idx = pickle.load(f)\n",
    "            prev_error_idx.extend(error_idx)\n",
    "            with open(os.path.join(self.args.log_path, self.args.task, 'error_idx.pickle'), 'wb') as f:\n",
    "                pickle.dump(prev_error_idx, f, pickle.HIGHEST_PROTOCOL)         \n",
    "        except:\n",
    "            with open(os.path.join(self.args.log_path, self.args.task, 'error_idx.pickle'), 'wb') as f:\n",
    "                pickle.dump(error_idx, f, pickle.HIGHEST_PROTOCOL)\n",
    "\n",
    "        with open(os.path.join(self.args.log_path, self.args.task, 's_idx.pickle'), 'wb') as f:\n",
    "            pickle.dump(e_idx, f, pickle.HIGHEST_PROTOCOL)"
   ]
  },
  {
   "cell_type": "code",
   "execution_count": 6,
   "id": "0a9d3929",
   "metadata": {},
   "outputs": [],
   "source": [
    "args.flag=0"
   ]
  },
  {
   "cell_type": "code",
   "execution_count": 7,
   "id": "b155b21e",
   "metadata": {},
   "outputs": [],
   "source": [
    "papago = PapagoLD(args)"
   ]
  },
  {
   "cell_type": "code",
   "execution_count": 8,
   "id": "74bd9ec4",
   "metadata": {},
   "outputs": [],
   "source": [
    "papago.set_client()\n",
    "papago.load_data()"
   ]
  },
  {
   "cell_type": "code",
   "execution_count": 9,
   "id": "e233da53",
   "metadata": {},
   "outputs": [],
   "source": [
    "client = papago.client\n",
    "data = papago.data"
   ]
  },
  {
   "cell_type": "code",
   "execution_count": 10,
   "id": "4d994ab1",
   "metadata": {
    "scrolled": true
   },
   "outputs": [
    {
     "name": "stdout",
     "output_type": "stream",
     "text": [
      "전체 데이터 개수: 5\n"
     ]
    },
    {
     "data": {
      "text/html": [
       "<div>\n",
       "<style scoped>\n",
       "    .dataframe tbody tr th:only-of-type {\n",
       "        vertical-align: middle;\n",
       "    }\n",
       "\n",
       "    .dataframe tbody tr th {\n",
       "        vertical-align: top;\n",
       "    }\n",
       "\n",
       "    .dataframe thead th {\n",
       "        text-align: right;\n",
       "    }\n",
       "</style>\n",
       "<table border=\"1\" class=\"dataframe\">\n",
       "  <thead>\n",
       "    <tr style=\"text-align: right;\">\n",
       "      <th></th>\n",
       "      <th>id</th>\n",
       "      <th>type</th>\n",
       "      <th>text</th>\n",
       "      <th>label</th>\n",
       "    </tr>\n",
       "  </thead>\n",
       "  <tbody>\n",
       "    <tr>\n",
       "      <th>0</th>\n",
       "      <td>al526</td>\n",
       "      <td>post</td>\n",
       "      <td>so, am i depressed? i'm honestly unsure myself...</td>\n",
       "      <td>0</td>\n",
       "    </tr>\n",
       "    <tr>\n",
       "      <th>1</th>\n",
       "      <td>as8qg</td>\n",
       "      <td>post</td>\n",
       "      <td>i originally put it in askreddit, but realized...</td>\n",
       "      <td>0</td>\n",
       "    </tr>\n",
       "    <tr>\n",
       "      <th>2</th>\n",
       "      <td>as8qg</td>\n",
       "      <td>post</td>\n",
       "      <td>how did you do it? am i even depressed at all?...</td>\n",
       "      <td>0</td>\n",
       "    </tr>\n",
       "  </tbody>\n",
       "</table>\n",
       "</div>"
      ],
      "text/plain": [
       "      id  type                                               text  label\n",
       "0  al526  post  so, am i depressed? i'm honestly unsure myself...      0\n",
       "1  as8qg  post  i originally put it in askreddit, but realized...      0\n",
       "2  as8qg  post  how did you do it? am i even depressed at all?...      0"
      ]
     },
     "execution_count": 10,
     "metadata": {},
     "output_type": "execute_result"
    }
   ],
   "source": [
    "print(f'전체 데이터 개수: {len(data)}')\n",
    "data.head(3)"
   ]
  },
  {
   "cell_type": "code",
   "execution_count": 11,
   "id": "84fcdbe2",
   "metadata": {},
   "outputs": [
    {
     "name": "stdout",
     "output_type": "stream",
     "text": [
      "언어 감지 작업 준비 완료\n",
      "app_01 언어 감지 작업중 ..\n",
      "언어 감지 종료 !\n",
      "이전 작업 기록들을 로드합니다.\n",
      "LD_sample.csv 파일에 대한 언어 감지 작업이 모두 종료되었습니다.\n",
      "data\\LD\\LD_nlang.csv\n",
      "파일 저장 완료\n"
     ]
    }
   ],
   "source": [
    "s_idx = 0\n",
    "if args.flag == 1:\n",
    "    lang_idx, nlang_idx, error_idx, s_idx = papago.load_log()\n",
    "    print(f'언어 감지 시작 지점: {s_idx}')\n",
    "\n",
    "print(f'언어 감지 작업 준비 완료')\n",
    "\n",
    "for cls in client:\n",
    "    print(f'{cls} 언어 감지 작업중 ..')\n",
    "    papago.client_ld(s_idx, client[cls], data)\n",
    "    lang_idx = papago.lang_idx   \n",
    "    nlang_idx = papago.nlang_idx\n",
    "    error_idx = papago.error_idx\n",
    "    e_idx = papago.s_idx\n",
    "    papago.save_log(lang_idx, nlang_idx, error_idx, e_idx)\n",
    "    lang_idx, nlang_idx, error_idx, s_idx = papago.load_log()        \n",
    "    if s_idx == 0:\n",
    "        print(f'{args.file_name} 파일에 대한 언어 감지 작업이 모두 종료되었습니다.')\n",
    "        papago.save_data(args.save_file, nlang_name=args.save_file2, lang_idx=lang_idx, nlang_idx=nlang_idx)\n",
    "        break\n",
    "    print(len(lang_idx), len(nlang_idx), len(error_idx), s_idx, end='\\n\\n')"
   ]
  },
  {
   "cell_type": "code",
   "execution_count": 13,
   "id": "56b9740f",
   "metadata": {},
   "outputs": [
    {
     "data": {
      "text/plain": [
       "(5, 0, 0, 0)"
      ]
     },
     "execution_count": 13,
     "metadata": {},
     "output_type": "execute_result"
    }
   ],
   "source": [
    "len(lang_idx), len(nlang_idx), len(error_idx), e_idx"
   ]
  },
  {
   "cell_type": "code",
   "execution_count": null,
   "id": "2a8b05bc",
   "metadata": {},
   "outputs": [],
   "source": []
  }
 ],
 "metadata": {
  "kernelspec": {
   "display_name": "Python 3",
   "language": "python",
   "name": "python3"
  },
  "language_info": {
   "codemirror_mode": {
    "name": "ipython",
    "version": 3
   },
   "file_extension": ".py",
   "mimetype": "text/x-python",
   "name": "python",
   "nbconvert_exporter": "python",
   "pygments_lexer": "ipython3",
   "version": "3.8.8"
  }
 },
 "nbformat": 4,
 "nbformat_minor": 5
}
