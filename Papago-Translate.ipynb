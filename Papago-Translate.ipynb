{
 "cells": [
  {
   "cell_type": "code",
   "execution_count": 37,
   "id": "59e62ad9",
   "metadata": {},
   "outputs": [],
   "source": [
    "import os\n",
    "import pandas as pd\n",
    "import json\n",
    "import pickle\n",
    "import urllib.request\n",
    "from attrdict import AttrDict\n",
    "from urllib.error import HTTPError\n",
    "from src import Papago"
   ]
  },
  {
   "cell_type": "code",
   "execution_count": 38,
   "id": "f412897c",
   "metadata": {},
   "outputs": [],
   "source": [
    "task = 'translate'\n",
    "config_path = 'config'\n",
    "config_file = 'translate_config.json'"
   ]
  },
  {
   "cell_type": "code",
   "execution_count": 39,
   "id": "aaefe109",
   "metadata": {},
   "outputs": [],
   "source": [
    "with open(os.path.join(config_path, task, config_file)) as f:\n",
    "    args = AttrDict(json.load(f))"
   ]
  },
  {
   "cell_type": "code",
   "execution_count": 40,
   "id": "bd7828a5",
   "metadata": {
    "scrolled": true
   },
   "outputs": [],
   "source": [
    "args.client_file = 'client.json'"
   ]
  },
  {
   "cell_type": "code",
   "execution_count": 41,
   "id": "0050f104",
   "metadata": {},
   "outputs": [
    {
     "data": {
      "text/plain": [
       "AttrDict({'task': 'translate', 'data_path': 'data', 'client_path': 'client', 'client_file': 'client.json', 'config_path': 'config', 'log_path': 'log', 'source': 'ko', 'target': 'en', 'file_name': 'daily_dataset2.csv', 'save_file': 'daily_dataset2_translated.csv', 'col': 'text', 'flag': 0})"
      ]
     },
     "execution_count": 41,
     "metadata": {},
     "output_type": "execute_result"
    }
   ],
   "source": [
    "args"
   ]
  },
  {
   "cell_type": "code",
   "execution_count": 42,
   "id": "1f706479",
   "metadata": {},
   "outputs": [],
   "source": [
    "class PapagoTranslate(Papago):\n",
    "    def __init__(self, args):\n",
    "        super().__init__(args)\n",
    "\n",
    "    def language_translate(self, cli, text):\n",
    "        '''\n",
    "        지정한 cli를 이용하여 text (1 sentence)에 대해 번역 수행 \n",
    "        '''\n",
    "        encQuery = urllib.parse.quote(text)\n",
    "        url = \"https://openapi.naver.com/v1/papago/n2mt\"\n",
    "        data = \"source=\" + self.args.source + \"&target=\" + self.args.target + \"&text=\" + encQuery\n",
    "        request = urllib.request.Request(url)\n",
    "        request.add_header(\"X-Naver-Client-Id\", cli[0])\n",
    "        request.add_header(\"X-Naver-Client-Secret\", cli[1])\n",
    "        response = urllib.request.urlopen(request, data=data.encode(\"utf-8\"))\n",
    "        response_body = response.read()\n",
    "        res = json.loads(response_body.decode('utf-8'))\n",
    "        \n",
    "        return res['message']['result']['translatedText']\n",
    "    \n",
    "    def client_ld(self, s_idx, cli, papago_df):\n",
    "        self.trans_idx = []\n",
    "        self.trans_txt = []\n",
    "        self.error_idx = []\n",
    "        \n",
    "        for idx in range(s_idx, len(papago_df)):\n",
    "            try:\n",
    "                translated = self.language_translate(cli, papago_df[self.args.col][idx])\n",
    "                self.trans_idx.append(idx) \n",
    "                self.trans_txt.append(translated)\n",
    " \n",
    "            except TypeError as te:\n",
    "                print(f'{idx}에서 TypeError 발생 ! 해당 데이터 건너뜀')\n",
    "                self.error_idx.append(idx)\n",
    "                continue\n",
    "            except HTTPError as he:\n",
    "                print(f'HTTPError 발생 ! {idx}: {papago_df[self.args.col][idx]}')\n",
    "                if he.code == 429:\n",
    "                    print('오류 내용: 일일 번역 한도 초과', end='\\n\\n')\n",
    "                    break\n",
    "                \n",
    "                if he.code == 500:\n",
    "                    print('오류 내용: HTTP 통신 오류', end='\\n\\n')       \n",
    "                    self.error_idx.append(idx)\n",
    "                    continue \n",
    "            \n",
    "        print(f'해당 Application 번역 종료 !')\n",
    "\n",
    "    def load_log(self):\n",
    "        print(f'이전 작업 기록들을 로드합니다.')\n",
    "        with open(os.path.join(self.args.log_path, self.args.task, 'trans_idx.pickle'), 'rb') as f:\n",
    "            trans_idx = pickle.load(f)\n",
    "\n",
    "        with open(os.path.join(self.args.log_path, self.args.task, 'trans_txt.pickle'), 'rb') as f:\n",
    "            trans_txt = pickle.load(f)\n",
    "            \n",
    "        with open(os.path.join(self.args.log_path, self.args.task, 'error_idx.pickle'), 'rb') as f:\n",
    "            error_idx = pickle.load(f)\n",
    "            \n",
    "        return trans_idx, trans_txt, error_idx\n",
    "        \n",
    "    def save_log(self, trans_idx, trans_txt, error_idx):\n",
    "        print(f'번역 작업 로그를 저장합니다.', end='\\n\\n')\n",
    "        try:   # 이전 작업 기록이 있으면\n",
    "            with open(os.path.join(self.args.log_path, self.args.task, 'trans_idx.pickle'), 'rb') as f:\n",
    "                prev_trans_idx = pickle.load(f)\n",
    "            prev_trans_idx.extend(trans_idx)\n",
    "            with open(os.path.join(self.args.log_path, self.args.task, 'trans_idx.pickle'), 'wb') as f:\n",
    "                pickle.dump(prev_trans_idx, f, pickle.HIGHEST_PROTOCOL)         \n",
    "        except:   # 신규 기록이면 \n",
    "            with open(os.path.join(self.args.log_path, self.args.task, 'trans_idx.pickle'), 'wb') as f:\n",
    "                pickle.dump(trans_idx, f, pickle.HIGHEST_PROTOCOL)\n",
    "                \n",
    "        try:    \n",
    "            with open(os.path.join(self.args.log_path, self.args.task, 'trans_txt.pickle'), 'rb') as f:\n",
    "                prev_trans_txt = pickle.load(f)\n",
    "            prev_trans_txt.extend(trans_txt)\n",
    "            with open(os.path.join(self.args.log_path, self.args.task, 'trans_txt.pickle'), 'wb') as f:\n",
    "                pickle.dump(prev_trans_txt, f, pickle.HIGHEST_PROTOCOL)         \n",
    "        except:\n",
    "            with open(os.path.join(self.args.log_path, self.args.task, 'trans_txt.pickle'), 'wb') as f:\n",
    "                pickle.dump(trans_txt, f, pickle.HIGHEST_PROTOCOL)\n",
    "        \n",
    "        try:\n",
    "            with open(os.path.join(self.args.log_path, self.args.task, 'error_idx.pickle'), 'rb') as f:\n",
    "                prev_error_idx = pickle.load(f)\n",
    "            prev_error_idx.extend(error_idx)\n",
    "            with open(os.path.join(self.args.log_path, self.args.task, 'error_idx.pickle'), 'wb') as f:\n",
    "                pickle.dump(prev_error_idx, f, pickle.HIGHEST_PROTOCOL)         \n",
    "        except:\n",
    "            with open(os.path.join(self.args.log_path, self.args.task, 'error_idx.pickle'), 'wb') as f:\n",
    "                pickle.dump(error_idx, f, pickle.HIGHEST_PROTOCOL)"
   ]
  },
  {
   "cell_type": "code",
   "execution_count": 43,
   "id": "a4e97791",
   "metadata": {},
   "outputs": [],
   "source": [
    "args.file_name = 'tmp.csv'\n",
    "args.save_file = 'tmp_translated.csv'"
   ]
  },
  {
   "cell_type": "code",
   "execution_count": 44,
   "id": "b9509dc4",
   "metadata": {},
   "outputs": [],
   "source": [
    "papago = PapagoTranslate(args)"
   ]
  },
  {
   "cell_type": "code",
   "execution_count": 45,
   "id": "01502126",
   "metadata": {},
   "outputs": [],
   "source": [
    "papago.set_client()\n",
    "papago.load_data()"
   ]
  },
  {
   "cell_type": "code",
   "execution_count": 46,
   "id": "efcfd088",
   "metadata": {},
   "outputs": [],
   "source": [
    "client = papago.client\n",
    "data = papago.data"
   ]
  },
  {
   "cell_type": "code",
   "execution_count": 47,
   "id": "4fb6c2ac",
   "metadata": {},
   "outputs": [
    {
     "data": {
      "text/html": [
       "<div>\n",
       "<style scoped>\n",
       "    .dataframe tbody tr th:only-of-type {\n",
       "        vertical-align: middle;\n",
       "    }\n",
       "\n",
       "    .dataframe tbody tr th {\n",
       "        vertical-align: top;\n",
       "    }\n",
       "\n",
       "    .dataframe thead th {\n",
       "        text-align: right;\n",
       "    }\n",
       "</style>\n",
       "<table border=\"1\" class=\"dataframe\">\n",
       "  <thead>\n",
       "    <tr style=\"text-align: right;\">\n",
       "      <th></th>\n",
       "      <th>id</th>\n",
       "      <th>context</th>\n",
       "      <th>turn_cnt</th>\n",
       "      <th>speaker_idx</th>\n",
       "      <th>speaker_sex</th>\n",
       "      <th>speaker_age</th>\n",
       "      <th>intent</th>\n",
       "      <th>text</th>\n",
       "    </tr>\n",
       "  </thead>\n",
       "  <tbody>\n",
       "    <tr>\n",
       "      <th>0</th>\n",
       "      <td>95439</td>\n",
       "      <td>연애/결혼</td>\n",
       "      <td>1</td>\n",
       "      <td>1번</td>\n",
       "      <td>남성</td>\n",
       "      <td>30대</td>\n",
       "      <td>(단언) 주장하기</td>\n",
       "      <td>나는 몸에서 멀어지면 마음에서 멀어진다고 생각해</td>\n",
       "    </tr>\n",
       "    <tr>\n",
       "      <th>1</th>\n",
       "      <td>95439</td>\n",
       "      <td>연애/결혼</td>\n",
       "      <td>2</td>\n",
       "      <td>2번</td>\n",
       "      <td>남성</td>\n",
       "      <td>30대</td>\n",
       "      <td>(단언) 주장하기</td>\n",
       "      <td>그게 참 사람마다 다를 순 있지만 힘든건 사실이지</td>\n",
       "    </tr>\n",
       "    <tr>\n",
       "      <th>2</th>\n",
       "      <td>95439</td>\n",
       "      <td>연애/결혼</td>\n",
       "      <td>3</td>\n",
       "      <td>3번</td>\n",
       "      <td>여성</td>\n",
       "      <td>20대</td>\n",
       "      <td>(단언) 주장하기</td>\n",
       "      <td>처음부터 장거리는 더 힘들 것 같아</td>\n",
       "    </tr>\n",
       "    <tr>\n",
       "      <th>3</th>\n",
       "      <td>95439</td>\n",
       "      <td>연애/결혼</td>\n",
       "      <td>4</td>\n",
       "      <td>1번</td>\n",
       "      <td>남성</td>\n",
       "      <td>30대</td>\n",
       "      <td>(단언) 진술하기</td>\n",
       "      <td>맨날 보고싶으면 결혼하는거지 나처럼~</td>\n",
       "    </tr>\n",
       "    <tr>\n",
       "      <th>4</th>\n",
       "      <td>95439</td>\n",
       "      <td>연애/결혼</td>\n",
       "      <td>5</td>\n",
       "      <td>2번</td>\n",
       "      <td>남성</td>\n",
       "      <td>30대</td>\n",
       "      <td>(지시) 질문하기</td>\n",
       "      <td>그래서 맨날 보니까 좋아?</td>\n",
       "    </tr>\n",
       "  </tbody>\n",
       "</table>\n",
       "</div>"
      ],
      "text/plain": [
       "      id context  turn_cnt speaker_idx speaker_sex speaker_age     intent  \\\n",
       "0  95439   연애/결혼         1          1번          남성         30대  (단언) 주장하기   \n",
       "1  95439   연애/결혼         2          2번          남성         30대  (단언) 주장하기   \n",
       "2  95439   연애/결혼         3          3번          여성         20대  (단언) 주장하기   \n",
       "3  95439   연애/결혼         4          1번          남성         30대  (단언) 진술하기   \n",
       "4  95439   연애/결혼         5          2번          남성         30대  (지시) 질문하기   \n",
       "\n",
       "                          text  \n",
       "0   나는 몸에서 멀어지면 마음에서 멀어진다고 생각해  \n",
       "1  그게 참 사람마다 다를 순 있지만 힘든건 사실이지  \n",
       "2          처음부터 장거리는 더 힘들 것 같아  \n",
       "3         맨날 보고싶으면 결혼하는거지 나처럼~  \n",
       "4               그래서 맨날 보니까 좋아?  "
      ]
     },
     "execution_count": 47,
     "metadata": {},
     "output_type": "execute_result"
    }
   ],
   "source": [
    "data"
   ]
  },
  {
   "cell_type": "code",
   "execution_count": 48,
   "id": "93e09290",
   "metadata": {},
   "outputs": [],
   "source": [
    "# args.flag = 0   # 해당 파일을 처음 작업하는 경우 args.flag = 0, 이어서 작업하는 경우 args.flag = 1 "
   ]
  },
  {
   "cell_type": "code",
   "execution_count": 49,
   "id": "577a5f68",
   "metadata": {},
   "outputs": [
    {
     "name": "stdout",
     "output_type": "stream",
     "text": [
      "번역 작업 준비 완료 !\n",
      "\n",
      "app_01 번역 작업중 ..\n",
      "해당 Application 번역 종료 !\n",
      "번역 작업 로그를 저장합니다.\n",
      "\n",
      "이전 작업 기록들을 로드합니다.\n",
      "tmp.csv 파일에 대한 번역 작업이 모두 종료되었습니다\n",
      "파일 저장 완료\n"
     ]
    }
   ],
   "source": [
    "s_idx = 0\n",
    "if args.flag == 1:\n",
    "    trans_idx, trans_txt, error_idx = papago.load_log() \n",
    "    print(f'번역 시작 지점: {trans_idx[-1]}, 번역 데이터 개수: {len(trans_txt)}, 오류 개수: {len(error_idx)}')\n",
    "    s_idx = trans_idx[-1] + 1 \n",
    "    \n",
    "print(f'번역 작업 준비 완료 !', end='\\n\\n')\n",
    "\n",
    "for cls in client:\n",
    "    print(f'{cls} 번역 작업중 ..')\n",
    "    papago.client_ld(s_idx, client[cls], data)\n",
    "    trans_idx = papago.trans_idx\n",
    "    trans_txt = papago.trans_txt \n",
    "    error_idx = papago.error_idx\n",
    "    papago.save_log(trans_idx, trans_txt, error_idx)\n",
    "    trans_idx, trans_txt, error_idx = papago.load_log()\n",
    "    try: \n",
    "        assert trans_idx[-1]   # trans_idx = []인 경우 오류 발생 \n",
    "        if trans_idx[-1] == len(data) - 1:\n",
    "            print(f'{args.file_name} 파일에 대한 번역 작업이 모두 종료되었습니다')\n",
    "            papago.save_data(args.save_file, trans_idx=trans_idx, trans_txt=trans_txt)\n",
    "            break\n",
    "        s_idx = trans_idx[-1] + 1 \n",
    "    except:\n",
    "        s_idx = 0\n",
    "    print(len(trans_idx), len(trans_txt), len(error_idx), trans_idx[-1], end='\\n\\n')"
   ]
  },
  {
   "cell_type": "code",
   "execution_count": null,
   "id": "421cc801",
   "metadata": {},
   "outputs": [],
   "source": []
  }
 ],
 "metadata": {
  "kernelspec": {
   "display_name": "Python 3",
   "language": "python",
   "name": "python3"
  },
  "language_info": {
   "codemirror_mode": {
    "name": "ipython",
    "version": 3
   },
   "file_extension": ".py",
   "mimetype": "text/x-python",
   "name": "python",
   "nbconvert_exporter": "python",
   "pygments_lexer": "ipython3",
   "version": "3.8.8"
  }
 },
 "nbformat": 4,
 "nbformat_minor": 5
}
